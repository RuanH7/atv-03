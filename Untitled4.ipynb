{
  "nbformat": 4,
  "nbformat_minor": 0,
  "metadata": {
    "colab": {
      "provenance": []
    },
    "kernelspec": {
      "name": "python3",
      "display_name": "Python 3"
    },
    "language_info": {
      "name": "python"
    }
  },
  "cells": [
    {
      "cell_type": "code",
      "execution_count": 4,
      "metadata": {
        "id": "lZ93HSCkB5Mz"
      },
      "outputs": [],
      "source": [
        "# Dicionário com as notas de alguns alunos\n",
        "notas = {'Teo': 8.5, 'Cristiano': 8.9, 'Matson': 7.7}"
      ]
    },
    {
      "cell_type": "code",
      "source": [
        "# 1- Exiba a nota do aluno Matson.\n",
        "print(\"Nota do Matson:\", notas['Matson'])"
      ],
      "metadata": {
        "colab": {
          "base_uri": "https://localhost:8080/"
        },
        "id": "yIUf1sBhCnYh",
        "outputId": "3e4df483-3acd-462a-f3ac-5ae7c61f430f"
      },
      "execution_count": 5,
      "outputs": [
        {
          "output_type": "stream",
          "name": "stdout",
          "text": [
            "Nota do Matson: 7.7\n"
          ]
        }
      ]
    },
    {
      "cell_type": "code",
      "source": [
        "# 2- Adicione um novo aluno chamado \"Bruna\" com a nota 8.7.\n",
        "notas['Bruna'] = 8.7"
      ],
      "metadata": {
        "id": "ArEe1bGICrPO"
      },
      "execution_count": 7,
      "outputs": []
    },
    {
      "cell_type": "code",
      "source": [
        "# 3- Atualize a nota do aluno \"Teo\" para 9.2.\n",
        "notas['Teo'] = 9.2"
      ],
      "metadata": {
        "id": "vUG-cArDCyRe"
      },
      "execution_count": 8,
      "outputs": []
    },
    {
      "cell_type": "code",
      "source": [
        "# 4- Verifique se o aluno \"Carlos\" está no dicionário.\n",
        "if 'Carlos' in notas:\n",
        "    print(\"Carlos está no dicionário.\")\n",
        "else:\n",
        "    print(\"Carlos NÃO está no dicionário.\")\n"
      ],
      "metadata": {
        "colab": {
          "base_uri": "https://localhost:8080/"
        },
        "id": "IjxnMh_jC2iY",
        "outputId": "ae5ea86f-b516-46c8-8c11-9a7754778a0e"
      },
      "execution_count": 9,
      "outputs": [
        {
          "output_type": "stream",
          "name": "stdout",
          "text": [
            "Carlos NÃO está no dicionário.\n"
          ]
        }
      ]
    },
    {
      "cell_type": "code",
      "source": [
        "# 5- Apague o aluno \"Matson\" do dicionário.\n",
        "del notas['Matson']"
      ],
      "metadata": {
        "id": "zlwdc5JGC8UA"
      },
      "execution_count": 10,
      "outputs": []
    },
    {
      "cell_type": "code",
      "source": [
        "# 6- Adicione dois novos alunos com notas à sua escolha.\n",
        "notas['Ruan'] = 10.0\n",
        "notas['Henrique'] = 9.5"
      ],
      "metadata": {
        "id": "4KkHuwEIC_7K"
      },
      "execution_count": 11,
      "outputs": []
    },
    {
      "cell_type": "code",
      "source": [
        "# 7- Mostre todas as chaves (nomes dos alunos).\n",
        "print(\"Alunos:\", list(notas.keys()))"
      ],
      "metadata": {
        "colab": {
          "base_uri": "https://localhost:8080/"
        },
        "id": "6J6fwnLkDSHr",
        "outputId": "70d3a47e-e8ea-442d-9baa-2e0413c6a217"
      },
      "execution_count": 12,
      "outputs": [
        {
          "output_type": "stream",
          "name": "stdout",
          "text": [
            "Alunos: ['Teo', 'Cristiano', 'Bruna', 'Ruan', 'Henrique']\n"
          ]
        }
      ]
    },
    {
      "cell_type": "code",
      "source": [
        "# 8- Mostre todos os valores (notas dos alunos).\n",
        "print(\"Notas:\", list(notas.values()))"
      ],
      "metadata": {
        "colab": {
          "base_uri": "https://localhost:8080/"
        },
        "id": "egvoW8KGDU08",
        "outputId": "03840f1a-e482-4e4d-ccfe-73746ae630e6"
      },
      "execution_count": 13,
      "outputs": [
        {
          "output_type": "stream",
          "name": "stdout",
          "text": [
            "Notas: [9.2, 8.9, 8.7, 10.0, 9.5]\n"
          ]
        }
      ]
    },
    {
      "cell_type": "code",
      "source": [
        "# 9- Use o método .get() para tentar buscar a nota de \"Islla\",\n",
        "#     e retorne \"Aluno não encontrado\" caso ele não exista.\n",
        "nota_islla = notas.get('Islla', 'Aluno não encontrado')\n",
        "print(\"Nota de Islla:\", nota_islla)"
      ],
      "metadata": {
        "colab": {
          "base_uri": "https://localhost:8080/"
        },
        "id": "g_4FGOdMDZtw",
        "outputId": "e094a582-a460-494f-ec91-491c02cc8b67"
      },
      "execution_count": 14,
      "outputs": [
        {
          "output_type": "stream",
          "name": "stdout",
          "text": [
            "Nota de Islla: Aluno não encontrado\n"
          ]
        }
      ]
    },
    {
      "cell_type": "code",
      "source": [
        "# 10- Use o método .get() para tentar buscar a nota de algum aluno, e a retorne.\n",
        "# Vamos buscar a nota da Bruna como exemplo:\n",
        "nota_bruna = notas.get('Bruna')\n",
        "print(\"Nota de Bruna:\", nota_bruna)"
      ],
      "metadata": {
        "colab": {
          "base_uri": "https://localhost:8080/"
        },
        "id": "0ZpstRNoDfCG",
        "outputId": "ccf90c4b-740f-4e89-cade-7d33802ee158"
      },
      "execution_count": 15,
      "outputs": [
        {
          "output_type": "stream",
          "name": "stdout",
          "text": [
            "Nota de Bruna: 8.7\n"
          ]
        }
      ]
    }
  ]
}